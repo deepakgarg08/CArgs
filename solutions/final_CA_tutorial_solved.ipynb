{
 "cells": [
  {
   "cell_type": "markdown",
   "metadata": {},
   "source": [
    "## The tutorial is mainly based on the paper \"ArgumenText:Searching for Arguments in Heterogeneous Sources\"\n",
    "\n",
    "C.Stab et al., 2018"
   ]
  },
  {
   "cell_type": "markdown",
   "metadata": {},
   "source": [
    "* **Tutors**:\n",
    "    * Nesara Gurunatha \n",
    "    * Deepak Garg"
   ]
  },
  {
   "cell_type": "markdown",
   "metadata": {},
   "source": [
    "### Task Description\n",
    "\n",
    "The main intention of this tutorial is to get some idea on how to index and retrieve documents and differentiate the arguments between pros and cons. "
   ]
  },
  {
   "cell_type": "markdown",
   "metadata": {},
   "source": [
    "The implementation is divided into 2 parts :\n",
    "    \n",
    "    Part 1 : Importing and Indexing the data (TODO)\n",
    "    Part 2 : Retrieval of the data (TODO)"
   ]
  },
  {
   "cell_type": "markdown",
   "metadata": {},
   "source": [
    "#### Required libraries\n",
    "\n",
    "<code>pip install whoosh</code><br>"
   ]
  },
  {
   "cell_type": "markdown",
   "metadata": {},
   "source": [
    "### Part 1\n",
    "\n",
    "#### Import the data which is in json format and prepare it for indexing."
   ]
  },
  {
   "cell_type": "code",
   "execution_count": 1,
   "metadata": {},
   "outputs": [],
   "source": [
    "import sys\n",
    "import os\n",
    "import json\n",
    "from whoosh.index import create_in\n",
    "from whoosh.fields import Schema, TEXT, ID, KEYWORD\n",
    "\n",
    "\n",
    "def searchData(root):\n",
    "\n",
    "    '''\n",
    "    Schema: Set of all possible fields in a document.\n",
    "    For example, consider a schema for indexing emails \n",
    "    that might contain fields like from_addr, to_addr, \n",
    "    subject, body and attachments.\n",
    "    '''\n",
    "    schema = Schema(Title=TEXT(stored=True),URL=ID(stored=True),\\\n",
    "              Context=KEYWORD(stored=True, scorable=True))\n",
    "    \n",
    "    # Create a directory if not present where the indices are stored\n",
    "    if not os.path.exists(\"indir\"):\n",
    "        os.mkdir(\"indir\")\n",
    "        \n",
    "    try:\n",
    "    # Create an index writer to add document as per the schema\n",
    "        index = create_in(\"indir\",schema)\n",
    "        writer = index.writer()\n",
    "        filepaths = [os.path.join(root,i) for i in os.listdir(root)]\n",
    "        for path in filepaths:\n",
    "            with open(path, \"r\", encoding='utf8') as fp:\n",
    "                data = json.load(fp)\n",
    "                writer.add_document(Title=data['MetaData'][\"Title\"], URL=data['MetaData']['URL'], Context=data['MetaData']['Context'])\n",
    "        writer.commit()\n",
    "              \n",
    "    except Exception as e:\n",
    "        print(e)\n",
    "\n",
    "\n",
    "root = \"json_dataset\"\n",
    "searchData(root)"
   ]
  },
  {
   "cell_type": "markdown",
   "metadata": {},
   "source": [
    "### Part 2\n",
    "\n",
    "#### After the data has been indexed, next step is to retrieve the data (search and score the documents)."
   ]
  },
  {
   "cell_type": "code",
   "execution_count": 2,
   "metadata": {
    "scrolled": true
   },
   "outputs": [
    {
     "name": "stdout",
     "output_type": "stream",
     "text": [
      "enter an input to be searched: north korea\n"
     ]
    }
   ],
   "source": [
    "from whoosh import qparser\n",
    "from whoosh.index import open_dir\n",
    "from whoosh.scoring import BM25F\n",
    "\n",
    "input_search = input(\"enter an input to be searched: \").lower()\n",
    "rank_func = 'BM25' # Ranking function to estimate relevance of documents for a search query\n",
    "\n",
    "directory_name = \"indir\"\n",
    "index = open_dir(directory_name) # Open a directory where the indices are present\n",
    "qp = qparser.MultifieldParser(['Context', 'Title', 'URL'], index.schema) # Configured to search in multiple fields\n",
    "query = qp.parse(input_search)"
   ]
  },
  {
   "cell_type": "code",
   "execution_count": 6,
   "metadata": {
    "scrolled": true
   },
   "outputs": [
    {
     "name": "stdout",
     "output_type": "stream",
     "text": [
      "Top 1 search results found for the input north korea using BM25\n",
      "\n",
      "URL: http://debatewise.org/debates/2562-western-relations-with-north-korea/\n",
      "Crawl date: 2016/10/03 20:49:56\n",
      "Title: Western Relations with North Korea - DebateWise\n",
      "Number of arguments: 5\n",
      "\n",
      "\n",
      "Claim For: One of the primary reasons that is often cited to support the establishment of diplomatic and trade ...\n",
      "\n",
      "Evidence Pro: One of the primary reasons that is often cited to support the establishment of diplomatic and trade relations with North Korea is that of humanitarian concerns. It is an unassailable fact that scores of North Korean citizens die from poverty and starvation annually. At present there remain many barriers in place that ought to be eliminated in order to encourage the flow of more aid, especially food aid to the country.\n",
      "\n",
      "Evidence Con: It is foolhardy to presume that no aid is received by North Korea at present due to the various barriers that exist. Arguably, the existing barriers do not significantly hinder the channelling of aid to the country. Conversely, the problem is not about the amount of aid, but about the distribution of aid by the North Korean government. Much of the aid that Pyongyang receives is not handed over to the ordinary people. Rather, it is often used to build up the country’s Armed Forces and to fund the extravagant lifestyles of its political elite.\n",
      "\n",
      "\n",
      "Claim For: Although there are concerns with the human rights record of North Korea, which remains one of the wo...\n",
      "\n",
      "Evidence Pro: Although there are concerns with the human rights record of North Korea, which remains one of the worst in the world and with the dictatorial regime that is in power, trading with North Korea would encourage the creation of wealth in the country. This in turn will foster the emergence of a stable middle class. Coupled with the free flow of information which is a corollary of free trade, a prosperous North Korean middle class will eventually demand political change and this will ultimately lead to a gradual democratization of the country and an improvement in its human rights records. Slow and steady economic development does lead to political development, as was the case with South Korea and Taiwan. Both had authoritarian governments in place initially, but have now flourished to become one of the most stable democracies in East Asia.\n",
      "\n",
      "Evidence Con: It is a mere assertion that economic growth will lead to political reform. Firstly, it should be noted that any benefits derived from trade will be enjoyed by an inner circle of political leaders and their cronies. There is nothing to suggest that wealth will “trickle” down to the ordinary people. Paradoxically, trade with the regime will only supply it with substantial financial resources which would only serve to entrench it deeper in power. An example is Indonesia where until recently, a sizeable amount of the country’s wealth was concentrated in the hands of former President Suharto’s family members and friends. Secondly, the leap from economic prosperity to political reform is not trouble-free. China remains a classic example of a country where international trade has yet to dent the existing political system that is in place.\n",
      "\n",
      "\n",
      "Claim For: Trade with North Korea will enable it to become more globalised. A North Korea that is dependent on ...\n",
      "\n",
      "Evidence Pro: Trade with North Korea will enable it to become more globalised. A North Korea that is dependent on international trade will have less of an incentive to act belligerently in an isolationist manner. Conversely, it will now have more of an incentive to act as a responsible member of the international community.\n",
      "\n",
      "Evidence Con: The cementing of official ties with the regime, coupled with absolute free trade with the regime should be treated with caution. To do so would run the risk of the West losing its 'bargaining chip' in, amongst others, persuading North Korea to end its missile programme entirely, peacefully reunify with South Korea and to institutionalise democratic reforms in the country.\n",
      "\n",
      "\n",
      "Claim For: During the US Secretary of State, Madeleine Albright’s visit to North Korea in October 2000, Kim Jon...\n",
      "\n",
      "Evidence Pro: During the US Secretary of State, Madeleine Albright’s visit to North Korea in October 2000, Kim Jong Il promised unconditionally that North Korea would cease all further tests of its Taepodong missile programme. It has also promised to end all sales of its missiles to rogue States like Libya and Iraq. Engaging North Korea diplomatically will enable the West to hold Pyongyang to its promises. This will represent a massive step in securing permanent peace in an otherwise volatile region.\n",
      "\n",
      "Evidence Con: North Korea’s sincerity in co-operating on defence and security issues is suspect, considering that it has made similar promises in the past not to test-fire its missiles, only to renege upon it. It is also worth observing that North Korea generates hundreds of millions of dollars per annum from its missile exports and is highly unlikely to give up doing so easily. In reality, the West should not let its guard down and should continue to cast a watchful eye on the North Koreans to ensure that it does not do anything which may jeopardize the peace in the region.\n",
      "\n",
      "\n",
      "Claim For: The recent gestures made by Kim Jong Il towards South Korea should be lauded. In the year 2000, Pres...\n",
      "\n",
      "Evidence Pro: The recent gestures made by Kim Jong Il towards South Korea should be lauded. In the year 2000, President Kim Dae Jung of the South visited Pyongyang for the first time in pursuit of his “Sunshine Policy” which eventually envisages peaceful reunification with the North. The West’s recognition of North Korea diplomatically will help to nudge North Korea down the road to peace and will undoubtedly help to speed up the entire peace process.\n",
      "\n",
      "Evidence Con: Although the recent developments in Korea provides much hope, we should recognize the fact that very few concrete measures have resulted from this. Apart from the exchange of visitors between the two countries, there has been nothing else tangible to show as a result of the thawing of relations between the two Koreas. Instead, additional leverage should be applied onto the North to extract more concessions with regards to the reunification issue from it as a precursor to future permanent acceptance by the West.\n",
      " \n",
      " http://debatewise.org/debates/2562-western-relations-with-north-korea/   (Score: 27.474283420052874) \n",
      "\n"
     ]
    }
   ],
   "source": [
    "# Here you can either opt BM25 ranking function or any other function in \"else\" part for providing the score to documents\n",
    "if rank_func == \"BM25\":\n",
    "    w = BM25F(B=0.75, K1=1.5)\n",
    "else:\n",
    "    pass\n",
    "\n",
    "# Method for searching the index\n",
    "with index.searcher(weighting=w) as searcher: # Runs an object on a searcher and returns a result\n",
    "    result = searcher.search(query, terms=True)\n",
    "    num_of_doc = result.scored_length() # Returns the number of scored documents \n",
    "   # run_time = result.runtime\n",
    "    \n",
    "    if num_of_doc == 0:\n",
    "        top_output = str(num_of_doc) + \" results found\" \n",
    "        print(top_output)\n",
    "        \n",
    "    else:\n",
    "        top_output = \"Top \" + str(num_of_doc) + \" search results found for the input \" + input_search + \" using \"+rank_func\n",
    "        print(top_output)\n",
    "        print()\n",
    "      \n",
    "    if result:\n",
    "        for hit in result:\n",
    "            Title = hit[\"Title\"]\n",
    "            URL = hit[\"URL\"]\n",
    "            Context = hit[\"Context\"]\n",
    "            score = hit.score\n",
    "            score = URL + \"   (Score: \" + str(score) + \")\"\n",
    "            print(str(Context), '\\n', str(score), '\\n')\n",
    "            \n",
    "           "
   ]
  }
 ],
 "metadata": {
  "celltoolbar": "Raw Cell Format",
  "kernelspec": {
   "display_name": "Python 3",
   "language": "python",
   "name": "python3"
  },
  "language_info": {
   "codemirror_mode": {
    "name": "ipython",
    "version": 3
   },
   "file_extension": ".py",
   "mimetype": "text/x-python",
   "name": "python",
   "nbconvert_exporter": "python",
   "pygments_lexer": "ipython3",
   "version": "3.7.1"
  }
 },
 "nbformat": 4,
 "nbformat_minor": 2
}
