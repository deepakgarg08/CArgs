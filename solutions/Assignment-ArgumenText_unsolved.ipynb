{
 "cells": [
  {
   "cell_type": "markdown",
   "metadata": {},
   "source": [
    "# This tutorial is based on the paper ArgumenText: Searching for Arguments in Heterogeneous Sources\n",
    "Stab et. al.\n",
    "\n",
    "* **Tutors**:\n",
    "    * Deepak Garg \n",
    "    * Nesara Gurunatha"
   ]
  },
  {
   "cell_type": "markdown",
   "metadata": {},
   "source": [
    "The main intention of this tutorial is to get some idea on how to index and retrieve documents and differentiate the arguments between pros and cons."
   ]
  },
  {
   "cell_type": "markdown",
   "metadata": {},
   "source": [
    "The implementation is divided into 4 parts :\n",
    "    \n",
    "    Part 1 : Importing and structuring the Dataset \n",
    "    Part 2 : Indexing\n",
    "    Part 3 : Retrieval\n",
    "    Part 4 : Identification and Stance Recognition"
   ]
  },
  {
   "cell_type": "markdown",
   "metadata": {},
   "source": [
    "#### Library Installation cells. Uncomment them and run the cells. To be skipped if already installed"
   ]
  },
  {
   "cell_type": "code",
   "execution_count": null,
   "metadata": {},
   "outputs": [],
   "source": [
    "#!pip install pandas"
   ]
  },
  {
   "cell_type": "code",
   "execution_count": null,
   "metadata": {},
   "outputs": [],
   "source": [
    "#!pip install elasticsearch"
   ]
  },
  {
   "cell_type": "code",
   "execution_count": null,
   "metadata": {},
   "outputs": [],
   "source": [
    "#!pip install textblob"
   ]
  },
  {
   "cell_type": "code",
   "execution_count": null,
   "metadata": {},
   "outputs": [],
   "source": [
    "#!pip install requests"
   ]
  },
  {
   "cell_type": "code",
   "execution_count": 2,
   "metadata": {},
   "outputs": [],
   "source": [
    "import csv, json, io\n",
    "import pandas as pd\n",
    "import requests\n",
    "from elasticsearch import Elasticsearch\n",
    "from textblob import TextBlob"
   ]
  },
  {
   "cell_type": "markdown",
   "metadata": {},
   "source": [
    "# Part 1.\n",
    "## Importing and structuring the Dataset of IBM Debater"
   ]
  },
  {
   "cell_type": "markdown",
   "metadata": {},
   "source": [
    "#### Importing the document"
   ]
  },
  {
   "cell_type": "code",
   "execution_count": 3,
   "metadata": {},
   "outputs": [],
   "source": [
    "# import json data file here\n",
    "jsonFile = open(\"data.json\", \"r+\", encoding=\"utf8\")"
   ]
  },
  {
   "cell_type": "markdown",
   "metadata": {},
   "source": [
    "# Part 2.\n",
    "## Indexing\n",
    "\n",
    "\n",
    "### TASK :Indexing the document"
   ]
  },
  {
   "cell_type": "code",
   "execution_count": 5,
   "metadata": {},
   "outputs": [
    {
     "data": {
      "text/plain": [
       "<Elasticsearch([{'host': 'localhost', 'port': 9200}])>"
      ]
     },
     "execution_count": 5,
     "metadata": {},
     "output_type": "execute_result"
    }
   ],
   "source": [
    "# make sure ES is up and running\n",
    "res = requests.get('http://localhost:9200')\n",
    "print(res.content)\n",
    "# Connect to the elastic cluster\n",
    "es = Elasticsearch([{'host':'localhost','port':9200}])\n",
    "es"
   ]
  },
  {
   "cell_type": "code",
   "execution_count": 6,
   "metadata": {},
   "outputs": [],
   "source": [
    "# Make Index of the document\n",
    "def buildIndex(index_name, data):\n",
    "    if es.indices.exists(index_name):\n",
    "        print(\"Index already exists... Aborting!\" .format(index_name))\n",
    "        return\n",
    " #### Task to do #####\n",
    "        "
   ]
  },
  {
   "cell_type": "code",
   "execution_count": null,
   "metadata": {
    "scrolled": true
   },
   "outputs": [],
   "source": [
    "#mention the name of index here\n",
    "indexName = \"myindex\"\n",
    "buildIndex(indexName, jsonFile)"
   ]
  },
  {
   "cell_type": "markdown",
   "metadata": {},
   "source": [
    "# Part 3.\n",
    "## Retrieval "
   ]
  },
  {
   "cell_type": "markdown",
   "metadata": {},
   "source": [
    "### Retrieving using elastic search"
   ]
  },
  {
   "cell_type": "code",
   "execution_count": null,
   "metadata": {},
   "outputs": [],
   "source": [
    "# Retrieval of the document from the index\n",
    "def searchIndex(indexname, search_query):\n",
    "    res = es.search(index=indexname, body={\"query\": {\"match\": {\"topic\": search_query}}}, size=500)\n",
    "    output_sentence = []\n",
    "    output_score = []\n",
    "    output_sentence_score = {}\n",
    "    for doc in res['hits']['hits']:\n",
    "    \n",
    "    #### Task to do ####\n",
    "    \n",
    "    output_sentence_score.update({'sentence_indexed':output_sentence,'index_score':output_score})\n",
    "    return output_sentence_score"
   ]
  },
  {
   "cell_type": "markdown",
   "metadata": {},
   "source": [
    "#### Sample queries for retrieval"
   ]
  },
  {
   "cell_type": "code",
   "execution_count": null,
   "metadata": {},
   "outputs": [],
   "source": [
    "query1 = \"Tower blocks are advantageous\"\n",
    "search_output = searchIndex(indexName, query1)"
   ]
  },
  {
   "cell_type": "code",
   "execution_count": null,
   "metadata": {},
   "outputs": [],
   "source": [
    "# search_output"
   ]
  },
  {
   "cell_type": "code",
   "execution_count": null,
   "metadata": {},
   "outputs": [],
   "source": [
    "# query2 = \"We should abandon Youtube\"\n",
    "# search_output = searchIndex(indexName, query2)"
   ]
  },
  {
   "cell_type": "code",
   "execution_count": null,
   "metadata": {},
   "outputs": [],
   "source": [
    "search_output"
   ]
  },
  {
   "cell_type": "markdown",
   "metadata": {},
   "source": [
    "# Part 4.\n",
    "## Identification and Stance Recognition"
   ]
  },
  {
   "cell_type": "code",
   "execution_count": null,
   "metadata": {},
   "outputs": [],
   "source": [
    "#just using two columns values in our case\n",
    "columns = ['sentence_index','score_index']"
   ]
  },
  {
   "cell_type": "code",
   "execution_count": null,
   "metadata": {},
   "outputs": [],
   "source": [
    "df_data = pd.DataFrame(columns = columns)\n",
    "df_data['sentence_index'] = search_output['sentence_indexed']\n",
    "df_data['score_index'] = search_output['index_score']"
   ]
  },
  {
   "cell_type": "markdown",
   "metadata": {},
   "source": [
    "#### To check sentences are pro or con"
   ]
  },
  {
   "cell_type": "code",
   "execution_count": null,
   "metadata": {},
   "outputs": [],
   "source": [
    "pro = list()\n",
    "con = list()\n",
    "for index, row in df_data.iterrows():\n",
    "    analysis = TextBlob(row['sentence_index'])\n",
    "    \n",
    "    #### task to do here ####\n",
    "    \n",
    "columns_pro = ['pros'] \n",
    "columns_cons = ['cons'] \n",
    "df_column_pro = pd.DataFrame(columns = columns_pro)\n",
    "df_column_pro['pros'] = pro\n",
    "df_column_cons = pd.DataFrame(columns = columns_cons)\n",
    "df_column_cons['cons'] = con"
   ]
  },
  {
   "cell_type": "code",
   "execution_count": 2,
   "metadata": {},
   "outputs": [],
   "source": [
    "# #if we want to save result in file\n",
    "# df_column_pro.to_json('FinalResult_pros.json')\n",
    "# df_column_cons.to_json('FinalResult_cons.json')"
   ]
  },
  {
   "cell_type": "code",
   "execution_count": null,
   "metadata": {},
   "outputs": [],
   "source": [
    "print('pros')\n",
    "print(df_column_pro)"
   ]
  },
  {
   "cell_type": "code",
   "execution_count": null,
   "metadata": {},
   "outputs": [],
   "source": [
    "print('cons')\n",
    "print(df_column_cons)"
   ]
  },
  {
   "cell_type": "markdown",
   "metadata": {},
   "source": [
    "### Optional task, How to delete an Index"
   ]
  },
  {
   "cell_type": "code",
   "execution_count": null,
   "metadata": {},
   "outputs": [],
   "source": [
    "#one liner"
   ]
  }
 ],
 "metadata": {
  "celltoolbar": "Raw Cell Format",
  "kernelspec": {
   "display_name": "Python 3",
   "language": "python",
   "name": "python3"
  },
  "language_info": {
   "codemirror_mode": {
    "name": "ipython",
    "version": 3
   },
   "file_extension": ".py",
   "mimetype": "text/x-python",
   "name": "python",
   "nbconvert_exporter": "python",
   "pygments_lexer": "ipython3",
   "version": "3.7.1"
  }
 },
 "nbformat": 4,
 "nbformat_minor": 2
}
