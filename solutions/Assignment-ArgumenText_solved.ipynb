{
 "cells": [
  {
   "cell_type": "markdown",
   "metadata": {},
   "source": [
    "# This tutorial is based on the paper ArgumenText: Searching for Arguments in Heterogeneous Sources\n",
    "Stab et. al.\n",
    "\n",
    "* **Tutors**:\n",
    "    * Deepak Garg \n",
    "    * Nesara Gurunatha"
   ]
  },
  {
   "cell_type": "markdown",
   "metadata": {},
   "source": [
    "The main intention of this tutorial is to get some idea on how to index and retrieve documents and differentiate the arguments between pros and cons."
   ]
  },
  {
   "cell_type": "markdown",
   "metadata": {},
   "source": [
    "The implementation is divided into 4 parts :\n",
    "    \n",
    "    Part 1 : Importing and structuring the Dataset \n",
    "    Part 2 : Indexing\n",
    "    Part 3 : Retrieval\n",
    "    Part 4 : Identification and Stance Recognition"
   ]
  },
  {
   "cell_type": "markdown",
   "metadata": {},
   "source": [
    "#### Library Installation cells. Uncomment them and run the cells. To be skipped if already installed"
   ]
  },
  {
   "cell_type": "code",
   "execution_count": null,
   "metadata": {},
   "outputs": [],
   "source": [
    "#!pip install pandas"
   ]
  },
  {
   "cell_type": "code",
   "execution_count": null,
   "metadata": {},
   "outputs": [],
   "source": [
    "#!pip install elasticsearch"
   ]
  },
  {
   "cell_type": "code",
   "execution_count": null,
   "metadata": {},
   "outputs": [],
   "source": [
    "#!pip install textblob"
   ]
  },
  {
   "cell_type": "code",
   "execution_count": null,
   "metadata": {},
   "outputs": [],
   "source": [
    "#!pip install requests"
   ]
  },
  {
   "cell_type": "code",
   "execution_count": 1,
   "metadata": {},
   "outputs": [],
   "source": [
    "import csv, json, io\n",
    "import pandas as pd\n",
    "import requests\n",
    "from elasticsearch import Elasticsearch\n",
    "from textblob import TextBlob"
   ]
  },
  {
   "cell_type": "markdown",
   "metadata": {},
   "source": [
    "# Part 1.\n",
    "## Importing and structuring the Dataset of IBM Debater"
   ]
  },
  {
   "cell_type": "markdown",
   "metadata": {},
   "source": [
    "#### Importing the document"
   ]
  },
  {
   "cell_type": "code",
   "execution_count": 2,
   "metadata": {},
   "outputs": [],
   "source": [
    "# import json data file here\n",
    "jsonFile = open(\"../ibm_data/data.json\", \"r+\", encoding=\"utf8\")"
   ]
  },
  {
   "cell_type": "markdown",
   "metadata": {},
   "source": [
    "# Part 2.\n",
    "## Indexing\n",
    "\n",
    "\n",
    "### TASK : Indexing the document"
   ]
  },
  {
   "cell_type": "markdown",
   "metadata": {},
   "source": [
    "\n",
    "#### Getting then neighbouring sentences for each source and target pairs"
   ]
  },
  {
   "cell_type": "code",
   "execution_count": 3,
   "metadata": {},
   "outputs": [
    {
     "name": "stdout",
     "output_type": "stream",
     "text": [
      "b'{\\n  \"name\" : \"LAPTOP-MMVTV8MH\",\\n  \"cluster_name\" : \"elasticsearch\",\\n  \"cluster_uuid\" : \"ZEt-eehDQMCSTUf2nAmN0Q\",\\n  \"version\" : {\\n    \"number\" : \"7.2.0\",\\n    \"build_flavor\" : \"unknown\",\\n    \"build_type\" : \"unknown\",\\n    \"build_hash\" : \"508c38a\",\\n    \"build_date\" : \"2019-06-20T15:54:18.811730Z\",\\n    \"build_snapshot\" : false,\\n    \"lucene_version\" : \"8.0.0\",\\n    \"minimum_wire_compatibility_version\" : \"6.8.0\",\\n    \"minimum_index_compatibility_version\" : \"6.0.0-beta1\"\\n  },\\n  \"tagline\" : \"You Know, for Search\"\\n}\\n'\n"
     ]
    },
    {
     "data": {
      "text/plain": [
       "<Elasticsearch([{'host': 'localhost', 'port': 9200}])>"
      ]
     },
     "execution_count": 3,
     "metadata": {},
     "output_type": "execute_result"
    }
   ],
   "source": [
    "# make sure ES is up and running\n",
    "res = requests.get('http://localhost:9200')\n",
    "print(res.content)\n",
    "# Connect to the elastic cluster\n",
    "es=Elasticsearch([{'host':'localhost','port':9200}])\n",
    "es"
   ]
  },
  {
   "cell_type": "code",
   "execution_count": 4,
   "metadata": {},
   "outputs": [],
   "source": [
    "# Make Index of the document\n",
    "def buildIndex(index_name, data):\n",
    "    if es.indices.exists(index_name):\n",
    "        print(\"Index already exists... Aborting!\" .format(index_name))\n",
    "        return\n",
    "\n",
    "    \n",
    "    for idx, doc in enumerate(data):    \n",
    "#         print(\"Processing id: {}\".format(idx))\n",
    "          es.index(index=index_name, doc_type='text', id=idx, body=doc)\n",
    "#         print(result)        "
   ]
  },
  {
   "cell_type": "code",
   "execution_count": 5,
   "metadata": {
    "scrolled": true
   },
   "outputs": [],
   "source": [
    "#mention the name of index here\n",
    "indexName = \"data1\"\n",
    "buildIndex(indexName, jsonFile)"
   ]
  },
  {
   "cell_type": "markdown",
   "metadata": {},
   "source": [
    "# Part 3.\n",
    "## Retrieval : Retrieving using elastic search"
   ]
  },
  {
   "cell_type": "code",
   "execution_count": 6,
   "metadata": {},
   "outputs": [],
   "source": [
    "# Retrieval of the document from the index\n",
    "def searchIndex(indexname, search_query):\n",
    "    res = es.search(index=indexname, body={\"query\": {\"match\": {\"topic\": search_query}}}, size=500)\n",
    "    # print(\"%d documents found:\" % res['hits']['total'])\n",
    "    output_sentence = []\n",
    "    output_score = []\n",
    "    output_sentence_score = {}\n",
    "    for doc in res['hits']['hits']:\n",
    "        score = doc['_score']\n",
    "        perspective_sentence = doc['_source'][\"sentence\"]\n",
    "        output_sentence.append(perspective_sentence)\n",
    "        output_score.append(score)       \n",
    "    output_sentence_score.update({'sentence_indexed':output_sentence,'index_score':output_score})\n",
    "    return output_sentence_score"
   ]
  },
  {
   "cell_type": "markdown",
   "metadata": {},
   "source": [
    "#### sample queries for retrieval"
   ]
  },
  {
   "cell_type": "code",
   "execution_count": 7,
   "metadata": {},
   "outputs": [],
   "source": [
    "query1 = \"Tower blocks are advantageous\"\n",
    "search_output = searchIndex(indexName, query1)"
   ]
  },
  {
   "cell_type": "code",
   "execution_count": 8,
   "metadata": {},
   "outputs": [],
   "source": [
    "# search_output"
   ]
  },
  {
   "cell_type": "code",
   "execution_count": 9,
   "metadata": {},
   "outputs": [],
   "source": [
    "# query2 = \"We should abandon Youtube\"\n",
    "# search_output = searchIndex(indexName, query2)"
   ]
  },
  {
   "cell_type": "code",
   "execution_count": 10,
   "metadata": {},
   "outputs": [
    {
     "data": {
      "text/plain": [
       "{'sentence_indexed': ['Highland St. is mostly commercial, with a collection of high-rise low-to-moderate residential buildings, as well as Crichton College.',\n",
       "  'A 13-story high-rise building was constructed in 1966 and served as housing for the elderly [REF].',\n",
       "  'Upon completion of the high-rise, the development had a total of 1002 units.',\n",
       "  'It was also the last conventional public housing development constructed in New Orleans and originally consisted of a 13-floor high-rise and fourteen 3-floor units [REF].',\n",
       "  'A sniper sat on top of the high-rise building, preventing the police and other from entering.',\n",
       "  'These plans included expanding the site to 73acre by acquiring adjacent properties, phased demolition of the high-rise and low-rise housing units, and construction of at least 640 new housing units.',\n",
       "  'Replacing the highrise were numerous low-income houses.',\n",
       "  'Toll readers were located on gantries at the east highrise,[REF] but additional gantries on the east mainland were added to facilitate tolling on the new bridge once opened.',\n",
       "  'The bleak economic climate of the early 1930s forced the Trautmanns to sell their house and move to an apartment block in the working class area of Gröpelingen, where Bernhard lived until 1941.',\n",
       "  \"From 1970 to 1990, All My Children was recorded at ABC's TV18 at 101 West 67th St, now a 50-story apartment tower.\",\n",
       "  'There is also council housing in the form of maisonettes plus four high-rise blocks.',\n",
       "  'Entering the southwestern corner of Jefferson Davis Parish, LA 14 turns to resume its eastward course and crosses a high-rise fixed span bridge (built in 2013 to replace an aging swing bridge)[REF] over the wide and serpentine Bayou Lacassine.',\n",
       "  'The Original Towers, nine-story high-rise residence halls designed primarily for freshmen, feature one-bedroom suites.',\n",
       "  'Apartment blocks have been re-purposed as accommodation for employees of the State Agency.',\n",
       "  'It was planned as a satellite city: a string of high-rise developments and designated commercial and industrial zones.',\n",
       "  'In 1981 a new construction zone plan was designated, which had a less dense settlement plan and turned away from high rises.',\n",
       "  \"In the central business district, the lifting of height restrictions heralded the beginning of the city's change into a largely high-rise city [REF].\",\n",
       "  'It comprises of two high-rise apartment buildings, and features vertical hanging gardens.',\n",
       "  \"With the lifting of height restrictions in the post-World War II years, much of central Sydney's older stock of architecture was demolished to make way for modernist high rise buildings.\",\n",
       "  'The house was demolished in 1937 and the site was redeveloped as an apartment block.',\n",
       "  'They get into trouble early on in the investigation when they and Roland Pryzbylewski drunkenly raid a Barksdale-controlled high rise tower and nearly incite a riot.',\n",
       "  'Housing at BU is an unusually diverse melange, ranging from individual 19th-century brownstone townhouses and apartment buildings acquired by the school to large-scale high-rises built in the 1960s and 2000s.',\n",
       "  'Construction on the rest of phase II, which included 19- and 26-story residential towers was finished in fall 2009.',\n",
       "  \"In 1986, Denise Kowal bought the triangle building and its 1950's addition to save it from demolition by speculators who wanted to build a high-rise on the property.\",\n",
       "  'The Fashion Mall is surrounded by a large mixed-use development consisting of several midrise office buildings (the tallest rises 18 stories), hotels, and stand-alone restaurants.',\n",
       "  \"Collingwood's housing consists of a large number of high-rise housing commission flats and a number of older single and double storey former workers cottages on small subdivisions.\",\n",
       "  'The diverse suburb has been the subject of gentrification since the early 1990s and now contains an eclectic mix of expensively converted warehouse residences, public housing high-rise flats and terrace houses from the Victorian-era.',\n",
       "  'Families and the established middle class left Capitol Hill in a mass diaspora, selling off the family home to a developer interested in putting up a high-rise in its place or leaving the home abandoned.',\n",
       "  'In the now-discredited belief that tearing down historic buildings and replacing them with modern architecture and high-rises would benefit cities, DURA bulldozed the bulk of Larimer Street in downtown.',\n",
       "  'The deep elliptical crescent of Eyre Crescent was built around Canonmills (or Eyre) House which was replaced in 1880-1 by a United Presbyterian Church[REF][REF] which in turn has been replaced by a modern apartment block.',\n",
       "  'It is a fairly large council scheme, which consists mostly of low-rise flats but also houses two 14 storey tower blocks (Greendykes House and Wauchope House).',\n",
       "  'In the sixties six tower blocks were built, whilst all six remain a large project was undertaken to refurbish these tower blocks, to coincide with the building of the Edinburgh Royal Infirmary.',\n",
       "  'Two of these tower blocks, Moncreiffe House and Forteviot House, are within the geographical boundary of Moredun proper, while the other four are in neighbouring Craigour.',\n",
       "  'The predominant feature of the area is the 22-storey tower block Martello Court, which accommodates 88 flats.',\n",
       "  'Other high rise blocks in the area include Birnies Court, Fidra Court, Gunnet Court and Inchmickery Court amongst others.',\n",
       "  'The housing mostly takes the form of maisonettes and three storey blocks of flats.',\n",
       "  'The plan, a $220 million investment, includes a 29-story residential tower, a 10-story office building, and a two-story retail and entertainment building [REF].',\n",
       "  'It is slated to have high rise condominiums, retail, and office space [REF].',\n",
       "  'At their base, one of the brick kilns has been preserved, though the remainder of this site has been redeveloped as medium-density attached housing and low-rise apartment blocks.',\n",
       "  'The apartment tower is easily identifiable from its \"L\" shape.',\n",
       "  'The high-rise uses the modern architecture style, incorporating a great deal of glass and steel.',\n",
       "  'It is an office high-rise with a multi-story parking garage.',\n",
       "  'It was demolished in 1915 and replaced by the present high-rise office building, which opened in 1917 [REF].',\n",
       "  'The Banco Group turned the Footscray Plaza into a $45 million apartment block of ten stories, with the old retail space expanded.',\n",
       "  'The tallest building approved for the area is a $90 million, 25-story apartment block with 222 apartments, construction is due to finish in 2013 [REF].',\n",
       "  'The long-abandoned Kinnears rope factory site on Ballarat Road could be turned into a mini-suburb for 2,500 people including high-rise apartments, increasing the number of homes in Footscray by more than a quarter [REF].',\n",
       "  'In the past most of the residences used to be small bungalows, which are now being replaced by high rise buildings.',\n",
       "  \"Sujata building was Santacruz's first high-rise (one with lift service) built by Raheja builders right across from the police station.\",\n",
       "  '8. \"Loft Cube\", Mobile Home Unit · Modular living unit to be installed on flat roofs of high-rise city buildings.',\n",
       "  'These will be replaced by a 110 metre tall tower[REF] and other mid rise and low rise apartment blocks[REF] as well as offices, hotel facilities, retail and cultural facilities.',\n",
       "  'This area is now being developed with the construction of highrise apartment and office blocks with one block complete[REF] and another under construction.',\n",
       "  'This will be called Curzon Park and will feature a major low to mid-rise mixed-use scheme with residential, leisure and hotel facilities.',\n",
       "  'Originally designed by Richard Rogers as part of the scheme for the Library of Birmingham, it was to have several residential towers however the architects pulled out when the library scheme was shelved.',\n",
       "  'Most of the properties use deck access, but the ground floor flats are accessed via individual front doors.',\n",
       "  'This was because the majority of electors lived in older tenements or newer Council blocks of flats where flat numbers were not specified.',\n",
       "  \"A four-storey stone residential tower, called the Tower of League, was built in the castle's south-west corner.\",\n",
       "  'Baird House is a four-storey tower block which was built in the 1960s.',\n",
       "  'Ewing House is a five-storey tower block which was built in the 1960s.',\n",
       "  'It is a six-storey tower block, which was opened in 1967, and has been used as a student hall of residence continually ever since.',\n",
       "  'Turner House is a six-storey tower block which was built in the 1960s.',\n",
       "  'Brewster House was a four-storey tower block which was built in the 1960s and used to house Undergraduate students (and tourists during summers) for the length of its use.',\n",
       "  'During the 1920s and 1930s, many of the large gardens of the older mansions were subdivided and blocks of flats became a feature of the area [REF].',\n",
       "  'In Toorak, some of the old property names live on as street names or the names of blocks of flats, carved out of or built on their sites.',\n",
       "  'Further complementing the high rise developments was a low density development between Bangs and Bendigo Streets.',\n",
       "  'A public housing high rise estate is located on King Street, adjoining Princes Gardens.',\n",
       "  'The area is mainly a council housing estate with approximately 1000 homes, made up of semi-detached houses, with some detached sand terraced houses and some high rise blocks of flats.',\n",
       "  'The Northwest Expressway Corridor includes most of the large scale high-rises, office towers, and hotels outside of downtown (including the architecturally interesting 360 at Founders Plaza).',\n",
       "  'It is also assumed that the Central Business District would be extended south, and new highrise construction will take place there.',\n",
       "  'The French film Delicatessen (1991) is set in an apartment block led by a butcher who deals with the food crisis by luring new tenants to the apartment, killing them, and serving them as meat to the other residents.',\n",
       "  \"Most of North Wollongong is commercial or residential with many of Wollongong's highrises situated there.\",\n",
       "  \"Matching the song's lyrics, Jagger is seen waiting for Keith Richards in the doorway of an apartment block.\",\n",
       "  \"This station is at the heart of Nishi-Shinjuku's residential high rise area.\",\n",
       "  \"It is made of three main areas, two former villages that were very close: Romanian Reșița ( or Olah Resitza) and Highland Reșița (, Eisenwerk Reschitza or Nemet Reschitza); a new area, recently built, made of tower blocks on a wide opened meadow, called Bârzava's Meadow [REF].\",\n",
       "  'Planned and constructed as an all-weather, concrete road with multiple lanes, its course is surrounded by high-rise buildings, residential complexes and public places such as parks and other large roads.',\n",
       "  'Stephenson Tower, a 20 storey tower block on New Street station, will be served with a compulsory purchase order and demolished as part of the project as one of the towers will partially cover the footprint of the building.',\n",
       "  'On the opposite side of Dale End, which occupies the site set for renovation, is a red brick 1970s midrise office block known as either Dale House or Century House, a multi-storey car park and ground floor, with a mezzanine level, retail space.',\n",
       "  'The other large buildings, excluding the 110 metre residential tower, will have optional hotel space as well as residential space.',\n",
       "  '2003 saw the S4R arrive with the 996 engine and twin high rise mufflers on the right hand side with a single sided swingarm along with an increase in power and torque (now up to 113HP) over the 916 powered S4.',\n",
       "  'All four radio stations and TV outlet share studios on Meridian Street in downtown Indianapolis, and its transmitter tower is atop the nearby residential high-rise Riley Towers II.',\n",
       "  'The offices seemed to be located in a large city high rise, probably an older building.',\n",
       "  'Over the recent decades, the former fishing village has been transformed into an upper class residential suburb of George Town, with high-rises such as Straits Quay lining the coast [REF].',\n",
       "  'The urbanisation of Tanjung Bungah began in the 1980s, leading to the construction of numerous residential high-rises along the shoreline [REF].',\n",
       "  'Decades of urbanisation has also led to the mushrooming of residential high-rises at Tanjung Bungah.',\n",
       "  'The city has a rich and varied culture, and the city is divided into three distinct zones: the medieval sector, the 19th century sector and the more densely populated post-war area, with its several apartment blocks [REF].',\n",
       "  'In Kaisariani (Athens), fighting the attempt of the council to \"modernise\" the area by demolishing the houses of 4,000 families in order to build trade centres and blocks of flats.',\n",
       "  'The buildings of the School also continued to grow with the construction of the Tower block, through which you still enter the School, and the combined gymnasium and concert hall - which in 1972 was converted into the School Theatre.',\n",
       "  'In contrast to its direct neighbour Garath,which consists mainly of projects, Hellerhof is socially in a far better social situation because there is much detached and semi-detached housing and only a few blocks of flats.',\n",
       "  'One can continually add to a modular building, including creating high rises [REF].',\n",
       "  \"She presents this segment from the Food 4 Life Kitchen on the 56th floor of Melbourne's Freshwater Place residential tower.\",\n",
       "  \"Traditional building-height restrictions in the central Bridgetown area,[REF][REF] and the perseverance of Barbados authorities in not allowing full-scale conversion of Bridgetown's many traditional buildings into tall iron and glass works[REF] has led to many companies in Barbados choosing to locate in the Warrens area for their high-rise complexes [REF].\",\n",
       "  'The architecture in Leichhardt ranges from Victorian single fronted brick homes to modern new homes and apartment blocks.',\n",
       "  'This area saw the development of numerous high-rise apartments (going up to 30 floors).',\n",
       "  \"Unlike Singapore, also a Straits Settlement, where many heritage buildings had to make way for modern skyscrapers and high-rise apartments due to rapid development and acute land scarcity, Penang's architectural heritage has enjoyed a better fate.\",\n",
       "  'He lives with his brother in a rundown tower block on the edge of Blackbury.',\n",
       "  'He has been best friends with Victor for sixty years and they are neighbours on the same floor of Osprey Heights, a tower block in Craiglang.',\n",
       "  'He has been best friends for sixty years with Jack, who also lives in the same tower block, Osprey Heights.',\n",
       "  'In addition, two famous shopping malls - Gurney Plaza and Gurney Paragon - as well as numerous high-rise hotels and condominiums, are located along Gurney Drive [REF].'],\n",
       " 'index_score': [0.020460403,\n",
       "  0.020460403,\n",
       "  0.020460403,\n",
       "  0.020460403,\n",
       "  0.020460403,\n",
       "  0.020460403,\n",
       "  0.020460403,\n",
       "  0.020460403,\n",
       "  0.020460403,\n",
       "  0.020460403,\n",
       "  0.020460403,\n",
       "  0.020460403,\n",
       "  0.020460403,\n",
       "  0.020460403,\n",
       "  0.020460403,\n",
       "  0.020460403,\n",
       "  0.020460403,\n",
       "  0.020460403,\n",
       "  0.020460403,\n",
       "  0.020460403,\n",
       "  0.020460403,\n",
       "  0.020460403,\n",
       "  0.020460403,\n",
       "  0.020460403,\n",
       "  0.020460403,\n",
       "  0.020460403,\n",
       "  0.020460403,\n",
       "  0.020460403,\n",
       "  0.020460403,\n",
       "  0.020460403,\n",
       "  0.020460403,\n",
       "  0.020460403,\n",
       "  0.020460403,\n",
       "  0.020460403,\n",
       "  0.020460403,\n",
       "  0.020460403,\n",
       "  0.020460403,\n",
       "  0.020460403,\n",
       "  0.020460403,\n",
       "  0.020460403,\n",
       "  0.020460403,\n",
       "  0.020460403,\n",
       "  0.020460403,\n",
       "  0.020460403,\n",
       "  0.020460403,\n",
       "  0.020460403,\n",
       "  0.020460403,\n",
       "  0.020460403,\n",
       "  0.020460403,\n",
       "  0.020460403,\n",
       "  0.020460403,\n",
       "  0.020460403,\n",
       "  0.020460403,\n",
       "  0.020460403,\n",
       "  0.020460403,\n",
       "  0.020460403,\n",
       "  0.020460403,\n",
       "  0.020460403,\n",
       "  0.020460403,\n",
       "  0.020460403,\n",
       "  0.020460403,\n",
       "  0.020460403,\n",
       "  0.020460403,\n",
       "  0.020460403,\n",
       "  0.020460403,\n",
       "  0.020460403,\n",
       "  0.020460403,\n",
       "  0.020460403,\n",
       "  0.020460403,\n",
       "  0.020460403,\n",
       "  0.020460403,\n",
       "  0.020460403,\n",
       "  0.020460403,\n",
       "  0.020460403,\n",
       "  0.020460403,\n",
       "  0.020460403,\n",
       "  0.020460403,\n",
       "  0.020460403,\n",
       "  0.020460403,\n",
       "  0.020460403,\n",
       "  0.020460403,\n",
       "  0.020460403,\n",
       "  0.020460403,\n",
       "  0.020460403,\n",
       "  0.020460403,\n",
       "  0.020460403,\n",
       "  0.020460403,\n",
       "  0.020460403,\n",
       "  0.020460403,\n",
       "  0.020460403,\n",
       "  0.020460403,\n",
       "  0.020460403,\n",
       "  0.020460403,\n",
       "  0.020460403,\n",
       "  0.020460403,\n",
       "  0.020460403,\n",
       "  0.020460403]}"
      ]
     },
     "execution_count": 10,
     "metadata": {},
     "output_type": "execute_result"
    }
   ],
   "source": [
    "search_output"
   ]
  },
  {
   "cell_type": "markdown",
   "metadata": {},
   "source": [
    "# Part 4.\n",
    "## Identification and Stance Recognition"
   ]
  },
  {
   "cell_type": "code",
   "execution_count": 11,
   "metadata": {},
   "outputs": [],
   "source": [
    "#just using two columns values in our case\n",
    "columns = ['sentence_index','score_index']"
   ]
  },
  {
   "cell_type": "code",
   "execution_count": 12,
   "metadata": {},
   "outputs": [],
   "source": [
    "df_data = pd.DataFrame(columns = columns)\n",
    "df_data['sentence_index'] = search_output['sentence_indexed']\n",
    "df_data['score_index'] = search_output['index_score']#just for representational purpose"
   ]
  },
  {
   "cell_type": "code",
   "execution_count": 13,
   "metadata": {},
   "outputs": [],
   "source": [
    "# df_data"
   ]
  },
  {
   "cell_type": "markdown",
   "metadata": {},
   "source": [
    "#### To check sentences are pro or con"
   ]
  },
  {
   "cell_type": "code",
   "execution_count": 17,
   "metadata": {},
   "outputs": [],
   "source": [
    "pro = list()\n",
    "con = list()\n",
    "for index, row in df_data.iterrows():\n",
    "    analysis = TextBlob(row['sentence_index'])\n",
    "    if analysis.sentiment.polarity >= 0:\n",
    "        pro.append(row['sentence_index'])\n",
    "    else:\n",
    "        con.append(row['sentence_index'])\n",
    "# print(len(pro))\n",
    "# print(len(con))\n",
    "columns_pro = ['pros'] \n",
    "columns_cons = ['cons'] \n",
    "df_column_pro = pd.DataFrame(columns = columns_pro)\n",
    "df_column_pro['pros'] = pro\n",
    "df_column_cons = pd.DataFrame(columns = columns_cons)\n",
    "df_column_cons['cons'] = con"
   ]
  },
  {
   "cell_type": "code",
   "execution_count": 18,
   "metadata": {},
   "outputs": [],
   "source": [
    "#if we want to save result in file\n",
    "df_column_pro.to_json('FinalResult_pros.json')\n",
    "df_column_cons.to_json('FinalResult_cons.json')"
   ]
  },
  {
   "cell_type": "code",
   "execution_count": 19,
   "metadata": {},
   "outputs": [
    {
     "name": "stdout",
     "output_type": "stream",
     "text": [
      "pros\n",
      "                                                 pros\n",
      "0   Highland St. is mostly commercial, with a coll...\n",
      "1   A 13-story high-rise building was constructed ...\n",
      "2   Upon completion of the high-rise, the developm...\n",
      "3   It was also the last conventional public housi...\n",
      "4   A sniper sat on top of the high-rise building,...\n",
      "5   Replacing the highrise were numerous low-incom...\n",
      "6   Toll readers were located on gantries at the e...\n",
      "7   From 1970 to 1990, All My Children was recorde...\n",
      "8   There is also council housing in the form of m...\n",
      "9   Entering the southwestern corner of Jefferson ...\n",
      "10  The Original Towers, nine-story high-rise resi...\n",
      "11  Apartment blocks have been re-purposed as acco...\n",
      "12  It was planned as a satellite city: a string o...\n",
      "13  In 1981 a new construction zone plan was desig...\n",
      "14  In the central business district, the lifting ...\n",
      "15  It comprises of two high-rise apartment buildi...\n",
      "16  With the lifting of height restrictions in the...\n",
      "17  The house was demolished in 1937 and the site ...\n",
      "18  They get into trouble early on in the investig...\n",
      "19  Housing at BU is an unusually diverse melange,...\n",
      "20  Construction on the rest of phase II, which in...\n",
      "21  In 1986, Denise Kowal bought the triangle buil...\n",
      "22  The Fashion Mall is surrounded by a large mixe...\n",
      "23  Collingwood's housing consists of a large numb...\n",
      "24  Families and the established middle class left...\n",
      "25  In the now-discredited belief that tearing dow...\n",
      "26  The deep elliptical crescent of Eyre Crescent ...\n",
      "27  It is a fairly large council scheme, which con...\n",
      "28  In the sixties six tower blocks were built, wh...\n",
      "29  The predominant feature of the area is the 22-...\n",
      "..                                                ...\n",
      "58  It is also assumed that the Central Business D...\n",
      "59  The French film Delicatessen (1991) is set in ...\n",
      "60  Most of North Wollongong is commercial or resi...\n",
      "61  Matching the song's lyrics, Jagger is seen wai...\n",
      "62  This station is at the heart of Nishi-Shinjuku...\n",
      "63  It is made of three main areas, two former vil...\n",
      "64  Planned and constructed as an all-weather, con...\n",
      "65  Stephenson Tower, a 20 storey tower block on N...\n",
      "66  On the opposite side of Dale End, which occupi...\n",
      "67  The other large buildings, excluding the 110 m...\n",
      "68  2003 saw the S4R arrive with the 996 engine an...\n",
      "69  All four radio stations and TV outlet share st...\n",
      "70  The offices seemed to be located in a large ci...\n",
      "71  Over the recent decades, the former fishing vi...\n",
      "72  The urbanisation of Tanjung Bungah began in th...\n",
      "73  Decades of urbanisation has also led to the mu...\n",
      "74  The city has a rich and varied culture, and th...\n",
      "75  In Kaisariani (Athens), fighting the attempt o...\n",
      "76  The buildings of the School also continued to ...\n",
      "77  In contrast to its direct neighbour Garath,whi...\n",
      "78  One can continually add to a modular building,...\n",
      "79  She presents this segment from the Food 4 Life...\n",
      "80  Traditional building-height restrictions in th...\n",
      "81  The architecture in Leichhardt ranges from Vic...\n",
      "82  This area saw the development of numerous high...\n",
      "83  Unlike Singapore, also a Straits Settlement, w...\n",
      "84  He lives with his brother in a rundown tower b...\n",
      "85  He has been best friends with Victor for sixty...\n",
      "86  He has been best friends for sixty years with ...\n",
      "87  In addition, two famous shopping malls - Gurne...\n",
      "\n",
      "[88 rows x 1 columns]\n"
     ]
    }
   ],
   "source": [
    "print('pros')\n",
    "print(df_column_pro)"
   ]
  },
  {
   "cell_type": "code",
   "execution_count": 20,
   "metadata": {},
   "outputs": [
    {
     "name": "stdout",
     "output_type": "stream",
     "text": [
      "cons\n",
      "                                                cons\n",
      "0  These plans included expanding the site to 73a...\n",
      "1  The bleak economic climate of the early 1930s ...\n",
      "2  The diverse suburb has been the subject of gen...\n",
      "3  Two of these tower blocks, Moncreiffe House an...\n",
      "4  At their base, one of the brick kilns has been...\n",
      "5  The tallest building approved for the area is ...\n",
      "6  8. \"Loft Cube\", Mobile Home Unit · Modular liv...\n",
      "7  These will be replaced by a 110 metre tall tow...\n",
      "8  The area is mainly a council housing estate wi...\n"
     ]
    }
   ],
   "source": [
    "print('cons')\n",
    "print(df_column_cons)"
   ]
  },
  {
   "cell_type": "markdown",
   "metadata": {},
   "source": [
    "### Optional task, How to delete an Index"
   ]
  },
  {
   "cell_type": "code",
   "execution_count": 22,
   "metadata": {},
   "outputs": [
    {
     "data": {
      "text/plain": [
       "{'acknowledged': True}"
      ]
     },
     "execution_count": 22,
     "metadata": {},
     "output_type": "execute_result"
    }
   ],
   "source": [
    "es.indices.delete(index='data1')"
   ]
  },
  {
   "cell_type": "code",
   "execution_count": null,
   "metadata": {},
   "outputs": [],
   "source": []
  }
 ],
 "metadata": {
  "celltoolbar": "Raw Cell Format",
  "kernelspec": {
   "display_name": "Python 3",
   "language": "python",
   "name": "python3"
  },
  "language_info": {
   "codemirror_mode": {
    "name": "ipython",
    "version": 3
   },
   "file_extension": ".py",
   "mimetype": "text/x-python",
   "name": "python",
   "nbconvert_exporter": "python",
   "pygments_lexer": "ipython3",
   "version": "3.7.1"
  }
 },
 "nbformat": 4,
 "nbformat_minor": 2
}
