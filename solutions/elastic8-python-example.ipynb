{
 "cells": [
  {
   "cell_type": "code",
   "execution_count": 8,
   "id": "5948772f-bed6-45c5-9463-4496230b9eab",
   "metadata": {},
   "outputs": [],
   "source": [
    "# pip install pandas\n"
   ]
  },
  {
   "cell_type": "code",
   "execution_count": 43,
   "id": "262f42e0-e7eb-4f44-9b7c-20fbeb03c489",
   "metadata": {},
   "outputs": [],
   "source": [
    "# Import:\n",
    "from elasticsearch import Elasticsearch, exceptions\n",
    "from elasticsearch.helpers import bulk\n",
    "# import pandas as pd\n",
    "\n",
    "# optional - for pretty printing:\n",
    "import pprint\n",
    "# pp = pprint.PrettyPrinter()\n",
    "pp = pprint.PrettyPrinter(indent=4)"
   ]
  },
  {
   "cell_type": "code",
   "execution_count": 2,
   "id": "8766b59d-1283-4ea9-96d3-260e0c5fd7b5",
   "metadata": {},
   "outputs": [
    {
     "name": "stdout",
     "output_type": "stream",
     "text": [
      "connection done...\n"
     ]
    }
   ],
   "source": [
    "# Assumming the ElasticSearch database is already running on localhost:9200,\n",
    "# Instance of the Elasticsearch client:\n",
    "es = Elasticsearch('http://localhost:9200')\n",
    "print(\"connection done...\")\n",
    "# es = Elasticsearch('localhost:9200')\n",
    "\n",
    "# Alternatively,\n",
    "# es = Elasticsearch(['localhost'], port=9200)\n",
    "\n",
    "# Check connection:\n",
    "if not es.ping():\n",
    "    raise ValueError(\"Connection failed\")"
   ]
  },
  {
   "cell_type": "code",
   "execution_count": 62,
   "id": "650bef26-f94b-42a5-ba07-59666b02dcdc",
   "metadata": {},
   "outputs": [
    {
     "name": "stdout",
     "output_type": "stream",
     "text": [
      "health status index         uuid                   pri rep docs.count docs.deleted store.size pri.store.size\n",
      "yellow open   new-index2    0As2snQkQW-FTlRxxpEX4g   1   1         40            1     21.1kb         21.1kb\n",
      "yellow open   test-index    uO8OsX9yT82R4LmAbMisiw   1   1          0            0       246b           246b\n",
      "yellow open   my-test-index 7NFL2FC3TIazHxA9aHRY9w   1   1          0            0       246b           246b\n",
      "yellow open   dpk-index     B_h6b4I6Tl-nEc7toZvsHA   1   1          2            0     10.7kb         10.7kb\n",
      "yellow open   new-index     j-6DReMcQb2i7bw832s2Hg   1   1          0            0       248b           248b\n",
      "\n"
     ]
    }
   ],
   "source": [
    "# List all indices in a cluster:\n",
    "print(es.cat.indices(v=True, s='health'))  # v=True -> show headings, s='health' -> sort by health"
   ]
  },
  {
   "cell_type": "code",
   "execution_count": 14,
   "id": "3da5ed45-119e-4fd3-b63b-8668619dca69",
   "metadata": {},
   "outputs": [
    {
     "name": "stderr",
     "output_type": "stream",
     "text": [
      "C:\\Users\\dega01\\AppData\\Local\\Temp\\ipykernel_30848\\2270674473.py:5: DeprecationWarning: Passing transport options in the API method is deprecated. Use 'Elasticsearch.options()' instead.\n",
      "  es.indices.create(index=index_name, ignore=400)\n"
     ]
    },
    {
     "data": {
      "text/plain": [
       "ObjectApiResponse({'acknowledged': True, 'shards_acknowledged': True, 'index': 'new-index2'})"
      ]
     },
     "execution_count": 14,
     "metadata": {},
     "output_type": "execute_result"
    }
   ],
   "source": [
    "index_name = \"new-index2\"\n",
    "\n",
    "# ---\n",
    "# create an index\n",
    "es.indices.create(index=index_name, ignore=400)"
   ]
  },
  {
   "cell_type": "code",
   "execution_count": 48,
   "id": "60f1be44-c7f1-4f35-ab4f-10e2940995f1",
   "metadata": {},
   "outputs": [],
   "source": [
    "sample_data = [\n",
    "    {\"fname\": \"king\", \"lname\": \"Bon\", \"age\": 35},\n",
    "    {\"fname\": \"John\", \"lname\": \"Doe\", \"age\": 30},\n",
    "    {\"fname\": \"Jane\", \"lname\": \"Smith\", \"age\": 25},\n",
    "    {\"fname\": \"Alice\", \"lname\": \"Johnson\", \"age\": 28},\n",
    "    {\"fname\": \"Bob\", \"lname\": \"Brown\", \"age\": 40},\n",
    "    {\"fname\": \"Eva\", \"lname\": \"Williams\", \"age\": 22},\n",
    "    {\"fname\": \"Michael\", \"lname\": \"Jones\", \"age\": 45},\n",
    "    {\"fname\": \"Sophia\", \"lname\": \"Miller\", \"age\": 35},\n",
    "    {\"fname\": \"William\", \"lname\": \"Davis\", \"age\": 32},\n",
    "    {\"fname\": \"Olivia\", \"lname\": \"Anderson\", \"age\": 29},\n",
    "    {\"fname\": \"James\", \"lname\": \"Wilson\", \"age\": 38},\n",
    "    {\"fname\": \"Emma\", \"lname\": \"Martinez\", \"age\": 27},\n",
    "    {\"fname\": \"Daniel\", \"lname\": \"Taylor\", \"age\": 31},\n",
    "    {\"fname\": \"Mia\", \"lname\": \"White\", \"age\": 24},\n",
    "    {\"fname\": \"Alexander\", \"lname\": \"Moore\", \"age\": 37},\n",
    "    {\"fname\": \"Lily\", \"lname\": \"Clark\", \"age\": 26},\n",
    "    {\"fname\": \"David\", \"lname\": \"Harris\", \"age\": 33},\n",
    "    {\"fname\": \"Grace\", \"lname\": \"Walker\", \"age\": 30},\n",
    "    {\"fname\": \"Joseph\", \"lname\": \"Lewis\", \"age\": 29},\n",
    "    {\"fname\": \"Ava\", \"lname\": \"King\", \"age\": 36},\n",
    "]\n",
    "\n",
    "\n"
   ]
  },
  {
   "cell_type": "code",
   "execution_count": 49,
   "id": "2c67fc70-59c8-444f-8235-4715eaaf127a",
   "metadata": {},
   "outputs": [],
   "source": [
    "# sample_data[0]"
   ]
  },
  {
   "cell_type": "code",
   "execution_count": 60,
   "id": "ead5d18f-8f31-4cfe-9ef6-c3fb5dc033a3",
   "metadata": {},
   "outputs": [],
   "source": [
    "# Make Index of the document\n",
    "# add multiple document\n",
    "\n",
    "def buildIndex(index_name, data):\n",
    "    # if es.indices.exists(index_name):\n",
    "    #     print(\"Index already exists... Aborting!\" .format(index_name))\n",
    "    #     return\n",
    "\n",
    "    # for idx, doc in enumerate(data,start=20):    \n",
    "    for idx, doc in enumerate(data):    \n",
    "          # print(\"Processing id: {}\".format(idx))\n",
    "          print(f\" id: {idx} :::::: doc {doc}\")\n",
    "          es.index(index=index_name, id=idx, document=doc)\n",
    "#         print(result)      "
   ]
  },
  {
   "cell_type": "code",
   "execution_count": 54,
   "id": "a7b6f31c-0325-4ac8-be3a-34b59879319d",
   "metadata": {},
   "outputs": [
    {
     "name": "stdout",
     "output_type": "stream",
     "text": [
      " id: 20 :::::: doc {'fname': 'king', 'lname': 'Bon', 'age': 35}\n",
      " id: 21 :::::: doc {'fname': 'John', 'lname': 'Doe', 'age': 30}\n",
      " id: 22 :::::: doc {'fname': 'Jane', 'lname': 'Smith', 'age': 25}\n",
      " id: 23 :::::: doc {'fname': 'Alice', 'lname': 'Johnson', 'age': 28}\n",
      " id: 24 :::::: doc {'fname': 'Bob', 'lname': 'Brown', 'age': 40}\n",
      " id: 25 :::::: doc {'fname': 'Eva', 'lname': 'Williams', 'age': 22}\n",
      " id: 26 :::::: doc {'fname': 'Michael', 'lname': 'Jones', 'age': 45}\n",
      " id: 27 :::::: doc {'fname': 'Sophia', 'lname': 'Miller', 'age': 35}\n",
      " id: 28 :::::: doc {'fname': 'William', 'lname': 'Davis', 'age': 32}\n",
      " id: 29 :::::: doc {'fname': 'Olivia', 'lname': 'Anderson', 'age': 29}\n",
      " id: 30 :::::: doc {'fname': 'James', 'lname': 'Wilson', 'age': 38}\n",
      " id: 31 :::::: doc {'fname': 'Emma', 'lname': 'Martinez', 'age': 27}\n",
      " id: 32 :::::: doc {'fname': 'Daniel', 'lname': 'Taylor', 'age': 31}\n",
      " id: 33 :::::: doc {'fname': 'Mia', 'lname': 'White', 'age': 24}\n",
      " id: 34 :::::: doc {'fname': 'Alexander', 'lname': 'Moore', 'age': 37}\n",
      " id: 35 :::::: doc {'fname': 'Lily', 'lname': 'Clark', 'age': 26}\n",
      " id: 36 :::::: doc {'fname': 'David', 'lname': 'Harris', 'age': 33}\n",
      " id: 37 :::::: doc {'fname': 'Grace', 'lname': 'Walker', 'age': 30}\n",
      " id: 38 :::::: doc {'fname': 'Joseph', 'lname': 'Lewis', 'age': 29}\n",
      " id: 39 :::::: doc {'fname': 'Ava', 'lname': 'King', 'age': 36}\n"
     ]
    }
   ],
   "source": [
    "#mention the name of index here\n",
    "indexName = \"new-index2\"\n",
    "buildIndex(indexName, sample_data)"
   ]
  },
  {
   "cell_type": "code",
   "execution_count": 55,
   "id": "a2cd79de-acba-40e5-842d-aa6065cfed01",
   "metadata": {},
   "outputs": [
    {
     "data": {
      "text/plain": [
       "ObjectApiResponse({'_index': 'new-index2', '_id': '2', '_version': 3, 'result': 'updated', '_shards': {'total': 2, 'successful': 1, 'failed': 0}, '_seq_no': 60, '_primary_term': 1})"
      ]
     },
     "execution_count": 55,
     "metadata": {},
     "output_type": "execute_result"
    }
   ],
   "source": [
    "\n",
    "# add a single document\n",
    "es.index(index=index_name, id=2, document={\"fname\": \"Dpk\", \"lname\": \"Garg\", \"age\":35})"
   ]
  },
  {
   "cell_type": "code",
   "execution_count": 56,
   "id": "0cf2d1b1-fd27-4902-a8fb-5c886b738b8a",
   "metadata": {},
   "outputs": [
    {
     "data": {
      "text/plain": [
       "ObjectApiResponse({'_index': 'new-index2', '_id': '1', '_version': 2, '_seq_no': 21, '_primary_term': 1, 'found': True, '_source': {'fname': 'John', 'lname': 'Doe', 'age': 30}})"
      ]
     },
     "execution_count": 56,
     "metadata": {},
     "output_type": "execute_result"
    }
   ],
   "source": [
    "# get a document\n",
    "index_to_search = 0 or index_name\n",
    "es.get(index=index_to_search, id=1)"
   ]
  },
  {
   "cell_type": "code",
   "execution_count": 58,
   "id": "ceb47065-80e7-401c-975c-b9c429a1c436",
   "metadata": {},
   "outputs": [],
   "source": [
    "# Define a query to match all documents\n",
    "query = {\"match_all\": {}}\n",
    "# Perform the search\n",
    "response = es.search(index=index_name, query=query, size=10000)  # Adjust the size as needed"
   ]
  },
  {
   "cell_type": "code",
   "execution_count": 59,
   "id": "dbcb0005-1e9e-4f2e-9466-4a276f595b65",
   "metadata": {},
   "outputs": [
    {
     "name": "stdout",
     "output_type": "stream",
     "text": [
      "[   {   '_id': '0',\n",
      "        '_index': 'new-index2',\n",
      "        '_score': 1.0,\n",
      "        '_source': {'age': 35, 'fname': 'king', 'lname': 'Bon'}},\n",
      "    {   '_id': '1',\n",
      "        '_index': 'new-index2',\n",
      "        '_score': 1.0,\n",
      "        '_source': {'age': 30, 'fname': 'John', 'lname': 'Doe'}},\n",
      "    {   '_id': '3',\n",
      "        '_index': 'new-index2',\n",
      "        '_score': 1.0,\n",
      "        '_source': {'age': 28, 'fname': 'Alice', 'lname': 'Johnson'}},\n",
      "    {   '_id': '4',\n",
      "        '_index': 'new-index2',\n",
      "        '_score': 1.0,\n",
      "        '_source': {'age': 40, 'fname': 'Bob', 'lname': 'Brown'}},\n",
      "    {   '_id': '5',\n",
      "        '_index': 'new-index2',\n",
      "        '_score': 1.0,\n",
      "        '_source': {'age': 22, 'fname': 'Eva', 'lname': 'Williams'}},\n",
      "    {   '_id': '6',\n",
      "        '_index': 'new-index2',\n",
      "        '_score': 1.0,\n",
      "        '_source': {'age': 45, 'fname': 'Michael', 'lname': 'Jones'}},\n",
      "    {   '_id': '7',\n",
      "        '_index': 'new-index2',\n",
      "        '_score': 1.0,\n",
      "        '_source': {'age': 35, 'fname': 'Sophia', 'lname': 'Miller'}},\n",
      "    {   '_id': '8',\n",
      "        '_index': 'new-index2',\n",
      "        '_score': 1.0,\n",
      "        '_source': {'age': 32, 'fname': 'William', 'lname': 'Davis'}},\n",
      "    {   '_id': '9',\n",
      "        '_index': 'new-index2',\n",
      "        '_score': 1.0,\n",
      "        '_source': {'age': 29, 'fname': 'Olivia', 'lname': 'Anderson'}},\n",
      "    {   '_id': '10',\n",
      "        '_index': 'new-index2',\n",
      "        '_score': 1.0,\n",
      "        '_source': {'age': 38, 'fname': 'James', 'lname': 'Wilson'}},\n",
      "    {   '_id': '11',\n",
      "        '_index': 'new-index2',\n",
      "        '_score': 1.0,\n",
      "        '_source': {'age': 27, 'fname': 'Emma', 'lname': 'Martinez'}},\n",
      "    {   '_id': '12',\n",
      "        '_index': 'new-index2',\n",
      "        '_score': 1.0,\n",
      "        '_source': {'age': 31, 'fname': 'Daniel', 'lname': 'Taylor'}},\n",
      "    {   '_id': '13',\n",
      "        '_index': 'new-index2',\n",
      "        '_score': 1.0,\n",
      "        '_source': {'age': 24, 'fname': 'Mia', 'lname': 'White'}},\n",
      "    {   '_id': '14',\n",
      "        '_index': 'new-index2',\n",
      "        '_score': 1.0,\n",
      "        '_source': {'age': 37, 'fname': 'Alexander', 'lname': 'Moore'}},\n",
      "    {   '_id': '15',\n",
      "        '_index': 'new-index2',\n",
      "        '_score': 1.0,\n",
      "        '_source': {'age': 26, 'fname': 'Lily', 'lname': 'Clark'}},\n",
      "    {   '_id': '16',\n",
      "        '_index': 'new-index2',\n",
      "        '_score': 1.0,\n",
      "        '_source': {'age': 33, 'fname': 'David', 'lname': 'Harris'}},\n",
      "    {   '_id': '17',\n",
      "        '_index': 'new-index2',\n",
      "        '_score': 1.0,\n",
      "        '_source': {'age': 30, 'fname': 'Grace', 'lname': 'Walker'}},\n",
      "    {   '_id': '18',\n",
      "        '_index': 'new-index2',\n",
      "        '_score': 1.0,\n",
      "        '_source': {'age': 29, 'fname': 'Joseph', 'lname': 'Lewis'}},\n",
      "    {   '_id': '19',\n",
      "        '_index': 'new-index2',\n",
      "        '_score': 1.0,\n",
      "        '_source': {'age': 36, 'fname': 'Ava', 'lname': 'King'}},\n",
      "    {   '_id': '20',\n",
      "        '_index': 'new-index2',\n",
      "        '_score': 1.0,\n",
      "        '_source': {'age': 35, 'fname': 'king', 'lname': 'Bon'}},\n",
      "    {   '_id': '21',\n",
      "        '_index': 'new-index2',\n",
      "        '_score': 1.0,\n",
      "        '_source': {'age': 30, 'fname': 'John', 'lname': 'Doe'}},\n",
      "    {   '_id': '22',\n",
      "        '_index': 'new-index2',\n",
      "        '_score': 1.0,\n",
      "        '_source': {'age': 25, 'fname': 'Jane', 'lname': 'Smith'}},\n",
      "    {   '_id': '23',\n",
      "        '_index': 'new-index2',\n",
      "        '_score': 1.0,\n",
      "        '_source': {'age': 28, 'fname': 'Alice', 'lname': 'Johnson'}},\n",
      "    {   '_id': '24',\n",
      "        '_index': 'new-index2',\n",
      "        '_score': 1.0,\n",
      "        '_source': {'age': 40, 'fname': 'Bob', 'lname': 'Brown'}},\n",
      "    {   '_id': '25',\n",
      "        '_index': 'new-index2',\n",
      "        '_score': 1.0,\n",
      "        '_source': {'age': 22, 'fname': 'Eva', 'lname': 'Williams'}},\n",
      "    {   '_id': '26',\n",
      "        '_index': 'new-index2',\n",
      "        '_score': 1.0,\n",
      "        '_source': {'age': 45, 'fname': 'Michael', 'lname': 'Jones'}},\n",
      "    {   '_id': '27',\n",
      "        '_index': 'new-index2',\n",
      "        '_score': 1.0,\n",
      "        '_source': {'age': 35, 'fname': 'Sophia', 'lname': 'Miller'}},\n",
      "    {   '_id': '28',\n",
      "        '_index': 'new-index2',\n",
      "        '_score': 1.0,\n",
      "        '_source': {'age': 32, 'fname': 'William', 'lname': 'Davis'}},\n",
      "    {   '_id': '29',\n",
      "        '_index': 'new-index2',\n",
      "        '_score': 1.0,\n",
      "        '_source': {'age': 29, 'fname': 'Olivia', 'lname': 'Anderson'}},\n",
      "    {   '_id': '30',\n",
      "        '_index': 'new-index2',\n",
      "        '_score': 1.0,\n",
      "        '_source': {'age': 38, 'fname': 'James', 'lname': 'Wilson'}},\n",
      "    {   '_id': '31',\n",
      "        '_index': 'new-index2',\n",
      "        '_score': 1.0,\n",
      "        '_source': {'age': 27, 'fname': 'Emma', 'lname': 'Martinez'}},\n",
      "    {   '_id': '32',\n",
      "        '_index': 'new-index2',\n",
      "        '_score': 1.0,\n",
      "        '_source': {'age': 31, 'fname': 'Daniel', 'lname': 'Taylor'}},\n",
      "    {   '_id': '33',\n",
      "        '_index': 'new-index2',\n",
      "        '_score': 1.0,\n",
      "        '_source': {'age': 24, 'fname': 'Mia', 'lname': 'White'}},\n",
      "    {   '_id': '34',\n",
      "        '_index': 'new-index2',\n",
      "        '_score': 1.0,\n",
      "        '_source': {'age': 37, 'fname': 'Alexander', 'lname': 'Moore'}},\n",
      "    {   '_id': '35',\n",
      "        '_index': 'new-index2',\n",
      "        '_score': 1.0,\n",
      "        '_source': {'age': 26, 'fname': 'Lily', 'lname': 'Clark'}},\n",
      "    {   '_id': '36',\n",
      "        '_index': 'new-index2',\n",
      "        '_score': 1.0,\n",
      "        '_source': {'age': 33, 'fname': 'David', 'lname': 'Harris'}},\n",
      "    {   '_id': '37',\n",
      "        '_index': 'new-index2',\n",
      "        '_score': 1.0,\n",
      "        '_source': {'age': 30, 'fname': 'Grace', 'lname': 'Walker'}},\n",
      "    {   '_id': '38',\n",
      "        '_index': 'new-index2',\n",
      "        '_score': 1.0,\n",
      "        '_source': {'age': 29, 'fname': 'Joseph', 'lname': 'Lewis'}},\n",
      "    {   '_id': '39',\n",
      "        '_index': 'new-index2',\n",
      "        '_score': 1.0,\n",
      "        '_source': {'age': 36, 'fname': 'Ava', 'lname': 'King'}},\n",
      "    {   '_id': '2',\n",
      "        '_index': 'new-index2',\n",
      "        '_score': 1.0,\n",
      "        '_source': {'age': 35, 'fname': 'Dpk', 'lname': 'Garg'}}]\n"
     ]
    }
   ],
   "source": [
    "pp.pprint(response[\"hits\"][\"hits\"])"
   ]
  },
  {
   "cell_type": "code",
   "execution_count": null,
   "id": "4ff5a492-3430-4bd6-af67-d91f18b9842a",
   "metadata": {},
   "outputs": [],
   "source": [
    "\n",
    "# update a document\n",
    "es.update(index=index_name, id=1, body={'doc': {'fname': 'Jony'}})\n"
   ]
  },
  {
   "cell_type": "code",
   "execution_count": null,
   "id": "6c439256-bdc7-4f19-ac4f-0ce4d2a4cc1e",
   "metadata": {},
   "outputs": [],
   "source": [
    "# delete a document\n",
    "index_name_to_delete = \"dpk-index\" or index_name\n",
    "es.delete(index=index_name_to_delete, id=1)"
   ]
  },
  {
   "cell_type": "code",
   "execution_count": null,
   "id": "1ff3965b-4486-4fa4-b317-2d30506e2576",
   "metadata": {},
   "outputs": [],
   "source": [
    "# delete an index\n",
    "es.indices.delete(index=index_name)"
   ]
  },
  {
   "cell_type": "code",
   "execution_count": 61,
   "id": "ee3fc84f-5cd7-4eca-8bff-85755556030f",
   "metadata": {},
   "outputs": [
    {
     "name": "stdout",
     "output_type": "stream",
     "text": [
      "{'fname': 'king', 'lname': 'Bon', 'age': 35}\n",
      "{'fname': 'John', 'lname': 'Doe', 'age': 30}\n",
      "{'fname': 'Alice', 'lname': 'Johnson', 'age': 28}\n",
      "{'fname': 'Bob', 'lname': 'Brown', 'age': 40}\n",
      "{'fname': 'Eva', 'lname': 'Williams', 'age': 22}\n",
      "{'fname': 'Michael', 'lname': 'Jones', 'age': 45}\n",
      "{'fname': 'Sophia', 'lname': 'Miller', 'age': 35}\n",
      "{'fname': 'William', 'lname': 'Davis', 'age': 32}\n",
      "{'fname': 'Olivia', 'lname': 'Anderson', 'age': 29}\n",
      "{'fname': 'James', 'lname': 'Wilson', 'age': 38}\n",
      "{'fname': 'Emma', 'lname': 'Martinez', 'age': 27}\n",
      "{'fname': 'Daniel', 'lname': 'Taylor', 'age': 31}\n",
      "{'fname': 'Mia', 'lname': 'White', 'age': 24}\n",
      "{'fname': 'Alexander', 'lname': 'Moore', 'age': 37}\n",
      "{'fname': 'Lily', 'lname': 'Clark', 'age': 26}\n",
      "{'fname': 'David', 'lname': 'Harris', 'age': 33}\n",
      "{'fname': 'Grace', 'lname': 'Walker', 'age': 30}\n",
      "{'fname': 'Joseph', 'lname': 'Lewis', 'age': 29}\n",
      "{'fname': 'Ava', 'lname': 'King', 'age': 36}\n",
      "{'fname': 'king', 'lname': 'Bon', 'age': 35}\n",
      "{'fname': 'John', 'lname': 'Doe', 'age': 30}\n",
      "{'fname': 'Jane', 'lname': 'Smith', 'age': 25}\n",
      "{'fname': 'Alice', 'lname': 'Johnson', 'age': 28}\n",
      "{'fname': 'Bob', 'lname': 'Brown', 'age': 40}\n",
      "{'fname': 'Eva', 'lname': 'Williams', 'age': 22}\n",
      "{'fname': 'Michael', 'lname': 'Jones', 'age': 45}\n",
      "{'fname': 'Sophia', 'lname': 'Miller', 'age': 35}\n",
      "{'fname': 'William', 'lname': 'Davis', 'age': 32}\n",
      "{'fname': 'Olivia', 'lname': 'Anderson', 'age': 29}\n",
      "{'fname': 'James', 'lname': 'Wilson', 'age': 38}\n",
      "{'fname': 'Emma', 'lname': 'Martinez', 'age': 27}\n",
      "{'fname': 'Daniel', 'lname': 'Taylor', 'age': 31}\n",
      "{'fname': 'Mia', 'lname': 'White', 'age': 24}\n",
      "{'fname': 'Alexander', 'lname': 'Moore', 'age': 37}\n",
      "{'fname': 'Lily', 'lname': 'Clark', 'age': 26}\n",
      "{'fname': 'David', 'lname': 'Harris', 'age': 33}\n",
      "{'fname': 'Grace', 'lname': 'Walker', 'age': 30}\n",
      "{'fname': 'Joseph', 'lname': 'Lewis', 'age': 29}\n",
      "{'fname': 'Ava', 'lname': 'King', 'age': 36}\n",
      "{'fname': 'Dpk', 'lname': 'Garg', 'age': 35}\n"
     ]
    }
   ],
   "source": [
    "# Define a query to match all documents\n",
    "query =  {\"match_all\": {}}\n",
    "try:\n",
    "    # Perform the search\n",
    "    response = es.search(index=index_name, query=query, size=10000)  # Adjust the size as needed\n",
    "\n",
    "    # Extract the documents from the response\n",
    "    documents = response['hits']['hits']\n",
    "\n",
    "    # Print or process the documents\n",
    "    for document in documents:\n",
    "        source_data = document['_source']\n",
    "        # Do something with the source_data, which contains the document's data\n",
    "        print(source_data)\n",
    "\n",
    "except exceptions.NotFoundError:\n",
    "    print(f\"The index '{index_name}' was not found in Elasticsearch.\")\n",
    "except Exception as e:\n",
    "    # Handle other exceptions here\n",
    "    print(f\"An error occurred: {str(e)}\")\n"
   ]
  },
  {
   "cell_type": "code",
   "execution_count": null,
   "id": "1c93eb8b-6af4-40ea-b82a-3163394fa696",
   "metadata": {},
   "outputs": [],
   "source": []
  }
 ],
 "metadata": {
  "kernelspec": {
   "display_name": "aes",
   "language": "python",
   "name": "aes"
  },
  "language_info": {
   "codemirror_mode": {
    "name": "ipython",
    "version": 3
   },
   "file_extension": ".py",
   "mimetype": "text/x-python",
   "name": "python",
   "nbconvert_exporter": "python",
   "pygments_lexer": "ipython3",
   "version": "3.8.16"
  }
 },
 "nbformat": 4,
 "nbformat_minor": 5
}
