{
 "cells": [
  {
   "cell_type": "markdown",
   "metadata": {},
   "source": [
    "## The tutorial is mainly based on the paper \"ArgumenText:Searching for Arguments in Heterogeneous Sources\"\n",
    "\n",
    "C.Stab et al., 2018"
   ]
  },
  {
   "cell_type": "markdown",
   "metadata": {},
   "source": [
    "* **Tutors**:\n",
    "    * Nesara Gurunatha \n",
    "    * Deepak Garg"
   ]
  },
  {
   "cell_type": "markdown",
   "metadata": {},
   "source": [
    "### Task Description\n",
    "\n",
    "The main intention of this tutorial is to get some idea on how to index and retrieve documents and differentiate the arguments between pros and cons. "
   ]
  },
  {
   "cell_type": "markdown",
   "metadata": {},
   "source": [
    "The implementation is divided into 2 parts :\n",
    "    \n",
    "    Part 1 : Importing and Indexing the data (TODO)\n",
    "    Part 2 : Retrieval of the data (TODO)"
   ]
  },
  {
   "cell_type": "markdown",
   "metadata": {},
   "source": [
    "#### Required libraries\n",
    "\n",
    "<code>pip install whoosh</code><br>"
   ]
  },
  {
   "cell_type": "markdown",
   "metadata": {},
   "source": [
    "### Part 1\n",
    "\n",
    "#### Import the data which is in json format and prepare it for indexing."
   ]
  },
  {
   "cell_type": "code",
   "execution_count": null,
   "metadata": {},
   "outputs": [],
   "source": [
    "import sys\n",
    "import os\n",
    "import json\n",
    "from whoosh.index import create_in\n",
    "from whoosh.fields import Schema, TEXT, ID, KEYWORD\n",
    "\n",
    "\n",
    "def searchData(root):\n",
    "\n",
    "    '''\n",
    "    Schema: Set of all possible fields in a document.\n",
    "    For example, consider a schema for indexing emails \n",
    "    that might contain fields like from_addr, to_addr, \n",
    "    subject, body and attachments.\n",
    "    '''\n",
    "    schema = Schema(Title=TEXT(stored=True),URL=ID(stored=True),\\\n",
    "              Context=KEYWORD(stored=True, scorable=True))\n",
    "    \n",
    "    # Create a directory if not present where the indices are stored\n",
    "    if not os.path.exists(\"indir\"):\n",
    "        os.mkdir(\"indir\")\n",
    "        \n",
    "    # Create an index writer to add document as per the schema\n",
    "        \n",
    "         ########### Task TODO #############\n",
    "        \n",
    "        \n",
    "root = \"json_dataset\"\n",
    "searchData(root)"
   ]
  },
  {
   "cell_type": "markdown",
   "metadata": {},
   "source": [
    "### Part 2\n",
    "\n",
    "#### After the data has been indexed, next step is to retrieve the data (search and score the documents)."
   ]
  },
  {
   "cell_type": "code",
   "execution_count": null,
   "metadata": {},
   "outputs": [],
   "source": [
    "from whoosh import qparser\n",
    "from whoosh.index import open_dir\n",
    "from whoosh.scoring import BM25F\n",
    "\n",
    "input_search = input(\"enter an input to be searched: \").lower()\n",
    "rank_func = 'BM25' # Ranking function to estimate relevance of documents for a search query\n",
    "\n",
    "directory_name = \"indir\"\n",
    "\n",
    "# Open a directory where the indices are present and configure it to search in multiple fields\n",
    "\n",
    "########### Task TODO ##########\n"
   ]
  },
  {
   "cell_type": "code",
   "execution_count": null,
   "metadata": {},
   "outputs": [],
   "source": [
    "# Here you can either opt BM25 ranking function or any other function in \"else\" part for providing the score to documents\n",
    "if rank_func == \"BM25\":\n",
    "    w = BM25F(B=0.75, K1=1.5)\n",
    "else:\n",
    "    pass\n",
    "\n",
    "# Method for searching the index\n",
    "with index.searcher(weighting=w) as searcher:\n",
    "    \n",
    "    ########## Task TODO ###########\n",
    "    \n",
    "        \n",
    "    if results:\n",
    "        for hit in results:\n",
    "            Title = hit[\"Title\"]\n",
    "            URL = hit[\"URL\"]\n",
    "            Title = hit[\"Title\"]\n",
    "            score = hit.score\n",
    "            score = URL + \" (Score: \" + str(score) + \")\"\n",
    "            print(str(Context), '\\n', str(score), '\\n')"
   ]
  }
 ],
 "metadata": {
  "kernelspec": {
   "display_name": "Python 3",
   "language": "python",
   "name": "python3"
  },
  "language_info": {
   "codemirror_mode": {
    "name": "ipython",
    "version": 3
   },
   "file_extension": ".py",
   "mimetype": "text/x-python",
   "name": "python",
   "nbconvert_exporter": "python",
   "pygments_lexer": "ipython3",
   "version": "3.7.1"
  }
 },
 "nbformat": 4,
 "nbformat_minor": 2
}
